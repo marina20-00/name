{
 "cells": [
  {
   "cell_type": "markdown",
   "id": "0a449e21",
   "metadata": {},
   "source": [
    "# Занятие 1"
   ]
  },
  {
   "cell_type": "markdown",
   "id": "bc500f41",
   "metadata": {},
   "source": [
    "### Задание 1 <br/>Воспользуйтесь следующими командами внутри среды JupyterилиGoogleColab:help,  ?,  ??,*,клавиша Tab. Поясните,для  чего  они  используются  (напишите комментариик ихвызовам)."
   ]
  },
  {
   "cell_type": "code",
   "execution_count": 10,
   "id": "25f4aa6d",
   "metadata": {},
   "outputs": [],
   "source": [
    "#tab показывает методы, которые можно применить к строке s\n",
    "s = 'line'\n",
    "s."
   ]
  },
  {
   "cell_type": "code",
   "execution_count": 16,
   "id": "de0e3676",
   "metadata": {},
   "outputs": [],
   "source": [
    "#запуск ячейки показывает информацию об IPython\n",
    "?"
   ]
  },
  {
   "cell_type": "code",
   "execution_count": 11,
   "id": "c94f1779",
   "metadata": {},
   "outputs": [],
   "source": [
    "#информация об объекте\n",
    "s?"
   ]
  },
  {
   "cell_type": "code",
   "execution_count": 12,
   "id": "82fe347d",
   "metadata": {},
   "outputs": [],
   "source": [
    "#делает то же, что предыдущая ячейка\n",
    "s??"
   ]
  },
  {
   "cell_type": "code",
   "execution_count": 18,
   "id": "78529cb2",
   "metadata": {
    "scrolled": true
   },
   "outputs": [],
   "source": [
    "#выводит выражения, заканчивающиеся на warning\n",
    "*Warning?"
   ]
  },
  {
   "cell_type": "markdown",
   "id": "5d150a97",
   "metadata": {},
   "source": [
    "### Задание 2 <br/> Выполнение  внешнего  кода:  %run.Создайте  в  текущей  папке  файл  (.pyили .ipynb) с кодом, определяющим какую-нибудь переменную и печатающую ее ме-тодом print. С помощью метода %runзапустите этот файл.Обратитесь к опреде-ленной внутри файла переменной."
   ]
  },
  {
   "cell_type": "code",
   "execution_count": 25,
   "id": "82272857",
   "metadata": {},
   "outputs": [
    {
     "name": "stdout",
     "output_type": "stream",
     "text": [
      "Hi there\n"
     ]
    }
   ],
   "source": [
    "%run task_1.py"
   ]
  },
  {
   "cell_type": "code",
   "execution_count": 26,
   "id": "8d79bad1",
   "metadata": {},
   "outputs": [
    {
     "data": {
      "text/plain": [
       "'Hi there'"
      ]
     },
     "execution_count": 26,
     "metadata": {},
     "output_type": "execute_result"
    }
   ],
   "source": [
    "line"
   ]
  },
  {
   "cell_type": "markdown",
   "id": "f07d1394",
   "metadata": {},
   "source": [
    "### Задание 3 <br/> Времявыполнения кода: %timeit, %%timeit. Используйте эти магические коман-ды(1-я –для одной строки; 2-я–для блока кода)для измерения времени работы кода."
   ]
  },
  {
   "cell_type": "code",
   "execution_count": 32,
   "id": "cf1aaeb1",
   "metadata": {},
   "outputs": [
    {
     "name": "stdout",
     "output_type": "stream",
     "text": [
      "5.09 µs ± 42.4 ns per loop (mean ± std. dev. of 7 runs, 100,000 loops each)\n"
     ]
    }
   ],
   "source": [
    "%%timeit\n",
    "lst = []\n",
    "for i in range(20):\n",
    "    lst.append(i**2)"
   ]
  },
  {
   "cell_type": "code",
   "execution_count": 30,
   "id": "28eca9f1",
   "metadata": {},
   "outputs": [
    {
     "name": "stdout",
     "output_type": "stream",
     "text": [
      "13.7 ns ± 0.0441 ns per loop (mean ± std. dev. of 7 runs, 100,000,000 loops each)\n"
     ]
    }
   ],
   "source": [
    "%timeit x = 10**2"
   ]
  },
  {
   "cell_type": "code",
   "execution_count": 33,
   "id": "0da0a337",
   "metadata": {},
   "outputs": [
    {
     "name": "stdout",
     "output_type": "stream",
     "text": [
      "4.62 µs ± 39.9 ns per loop (mean ± std. dev. of 7 runs, 100,000 loops each)\n"
     ]
    }
   ],
   "source": [
    "%timeit lst2 = [x**2 for x in range(20)]"
   ]
  },
  {
   "cell_type": "markdown",
   "id": "1348be0f",
   "metadata": {},
   "source": [
    "### Задание 4 <br/> История команд. Объекты In(список очередностикоманд)и Out(словарь ре-зультатов)оболочки IPython.Доступ к предыдущим вводам и выводам с помо-щью имен:“_i”, “_ii”, “_iii”“_”, “__”, “___”, “_номер”.Подавление вывода: “;”.Выведите на экран объектыIn, Out, используйте обращения к предыдущим вво-дам/выводам команди подавление вывода."
   ]
  },
  {
   "cell_type": "code",
   "execution_count": 35,
   "id": "07d9e773",
   "metadata": {},
   "outputs": [
    {
     "name": "stdout",
     "output_type": "stream",
     "text": [
      "['', '#\\nget_ipython().show_usage()', '#\\nget_ipython().show_usage()', '#\\nget_ipython().show_usage()', '#\\n*', '#делает то же, что предыдущая ячейка\\nget_ipython().show_usage()', '#\\n*', \"get_ipython().run_line_magic('pinfo', 's')\", \"#делает то же, что предыдущая ячейка\\nget_ipython().run_line_magic('pinfo2', 's')\", \"#tab показывает методы, которые можно применить к строке s\\ns = 'line'\\ns. \", \"#tab показывает методы, которые можно применить к строке s\\ns = 'line'\", \"#информация об объекте\\nget_ipython().run_line_magic('pinfo', 's')\", \"#делает то же, что предыдущая ячейка\\nget_ipython().run_line_magic('pinfo2', 's')\", '#\\n*', 'help', '#запуск ячейки показывает информацию об IPython\\nget_ipython().show_usage()', '#запуск ячейки показывает информацию об IPython\\nget_ipython().show_usage()', '*Warning', \"get_ipython().run_line_magic('psearch', '*Warning')\", \"get_ipython().run_line_magic('run', 'task_1.ipybn')\", \"get_ipython().run_line_magic('run', 'task_1')\", \"get_ipython().run_line_magic('run', 'task_1.py')\", \"get_ipython().run_line_magic('run', 'task_1')\", \"get_ipython().run_line_magic('run', 'task_1.ipybn')\", \"get_ipython().run_line_magic('run', 'task_1.py')\", \"get_ipython().run_line_magic('run', 'task_1.py')\", 'line', \"for i in range(20):\\nget_ipython().run_line_magic('timeit', '   lst.append(i**2)')\", \"for i in range(20):\\n    get_ipython().run_line_magic('timeit', '   lst.append(i**2)')\", \"get_ipython().run_line_magic('timeit', 'x = 10**2')\", \"get_ipython().run_line_magic('timeit', 'x = 10**2')\", \"get_ipython().run_cell_magic('timeit', '', 'for i in range(20):\\\\n    lst.append(i**2)\\\\n')\", \"get_ipython().run_cell_magic('timeit', '', 'lst = []\\\\nfor i in range(20):\\\\n    lst.append(i**2)\\\\n')\", \"get_ipython().run_line_magic('timeit', 'lst2 = [x**2 for x in range(20)]')\", '_33', 'print(In)']\n"
     ]
    }
   ],
   "source": [
    "print(In)"
   ]
  },
  {
   "cell_type": "code",
   "execution_count": 36,
   "id": "3ab24879",
   "metadata": {},
   "outputs": [
    {
     "name": "stdout",
     "output_type": "stream",
     "text": [
      "{14: Type help() for interactive help, or help(object) for help about object., 26: 'Hi there'}\n"
     ]
    }
   ],
   "source": [
    "print(Out)"
   ]
  },
  {
   "cell_type": "code",
   "execution_count": 39,
   "id": "908fbfbc",
   "metadata": {},
   "outputs": [
    {
     "name": "stdout",
     "output_type": "stream",
     "text": [
      "get_ipython().run_line_magic('timeit', 'lst2 = [x**2 for x in range(20)]')\n"
     ]
    }
   ],
   "source": [
    "print(In[33])"
   ]
  },
  {
   "cell_type": "code",
   "execution_count": 41,
   "id": "3c7874c0",
   "metadata": {},
   "outputs": [
    {
     "name": "stdout",
     "output_type": "stream",
     "text": [
      "Hi there\n"
     ]
    }
   ],
   "source": [
    "print(_)"
   ]
  },
  {
   "cell_type": "code",
   "execution_count": 43,
   "id": "14301301",
   "metadata": {},
   "outputs": [],
   "source": [
    "5 + 6;"
   ]
  },
  {
   "cell_type": "code",
   "execution_count": 45,
   "id": "259e3fbb",
   "metadata": {},
   "outputs": [
    {
     "data": {
      "text/plain": [
       "False"
      ]
     },
     "execution_count": 45,
     "metadata": {},
     "output_type": "execute_result"
    }
   ],
   "source": [
    "43 in Out"
   ]
  },
  {
   "cell_type": "markdown",
   "id": "f69aba4b",
   "metadata": {},
   "source": [
    "### Задание 5 <br/> Посмотреть текущий каталог и поменять его:%pwd, %cd.Можно использовать и восклицательный знак:  !pwd, !cd. Через восклицательный знак можно вызывать команды оболочки."
   ]
  },
  {
   "cell_type": "code",
   "execution_count": 52,
   "id": "05943d97",
   "metadata": {},
   "outputs": [
    {
     "data": {
      "text/plain": [
       "'C:\\\\Users\\\\mbutusova'"
      ]
     },
     "execution_count": 52,
     "metadata": {},
     "output_type": "execute_result"
    }
   ],
   "source": [
    "%pwd"
   ]
  },
  {
   "cell_type": "code",
   "execution_count": 49,
   "id": "85ace4fc",
   "metadata": {},
   "outputs": [
    {
     "name": "stdout",
     "output_type": "stream",
     "text": [
      "C:\\Users\\mbutusova\n"
     ]
    }
   ],
   "source": [
    "%cd"
   ]
  },
  {
   "cell_type": "code",
   "execution_count": 55,
   "id": "b1a77b71",
   "metadata": {},
   "outputs": [
    {
     "name": "stdout",
     "output_type": "stream",
     "text": [
      "['\"pwd\" \\xadҐ пў«пҐвбп ў\\xadгваҐ\\xad\\xadҐ© Ё«Ё ў\\xadҐи\\xadҐ©', 'Є®¬\\xa0\\xad¤®©, ЁбЇ®«\\xadпҐ¬®© Їа®Ја\\xa0¬¬®© Ё«Ё Ї\\xa0ЄҐв\\xadл¬ д\\xa0©«®¬.']\n"
     ]
    }
   ],
   "source": [
    "directory = !pwd\n",
    "print(directory)"
   ]
  },
  {
   "cell_type": "code",
   "execution_count": 53,
   "id": "fa2f4533",
   "metadata": {},
   "outputs": [
    {
     "name": "stdout",
     "output_type": "stream",
     "text": [
      "C:\\Users\\mbutusova\n"
     ]
    }
   ],
   "source": [
    "!cd"
   ]
  },
  {
   "cell_type": "markdown",
   "id": "104c2575",
   "metadata": {},
   "source": [
    "### Задание 6. <br/>Вывести все присвоенные переменные:  %who, %whos.Удалить одну из них с помощью %xdel"
   ]
  },
  {
   "cell_type": "code",
   "execution_count": 56,
   "id": "d1277c9a",
   "metadata": {},
   "outputs": [
    {
     "name": "stdout",
     "output_type": "stream",
     "text": [
      "directory\t i\t line\t s\t \n"
     ]
    }
   ],
   "source": [
    "%who"
   ]
  },
  {
   "cell_type": "code",
   "execution_count": 58,
   "id": "9d78b783",
   "metadata": {},
   "outputs": [
    {
     "name": "stdout",
     "output_type": "stream",
     "text": [
      "Variable    Type     Data/Info\n",
      "------------------------------\n",
      "directory   SList    ['\"pwd\" \\xadҐ пў«пҐвбп ў\\<...>xa0ЄҐв\\xadл¬ д\\xa0©«®¬.']\n",
      "i           int      0\n",
      "line        str      Hi there\n",
      "s           str      line\n"
     ]
    }
   ],
   "source": [
    "%whos"
   ]
  },
  {
   "cell_type": "code",
   "execution_count": 59,
   "id": "fcc6a693",
   "metadata": {},
   "outputs": [],
   "source": [
    "%xdel s"
   ]
  },
  {
   "cell_type": "code",
   "execution_count": 60,
   "id": "8bb51bfc",
   "metadata": {},
   "outputs": [
    {
     "name": "stdout",
     "output_type": "stream",
     "text": [
      "Variable    Type     Data/Info\n",
      "------------------------------\n",
      "directory   SList    ['\"pwd\" \\xadҐ пў«пҐвбп ў\\<...>xa0ЄҐв\\xadл¬ д\\xa0©«®¬.']\n",
      "i           int      0\n",
      "line        str      Hi there\n"
     ]
    }
   ],
   "source": [
    "%whos"
   ]
  },
  {
   "cell_type": "code",
   "execution_count": null,
   "id": "caff2e3d",
   "metadata": {},
   "outputs": [],
   "source": []
  }
 ],
 "metadata": {
  "kernelspec": {
   "display_name": "Python 3 (ipykernel)",
   "language": "python",
   "name": "python3"
  },
  "language_info": {
   "codemirror_mode": {
    "name": "ipython",
    "version": 3
   },
   "file_extension": ".py",
   "mimetype": "text/x-python",
   "name": "python",
   "nbconvert_exporter": "python",
   "pygments_lexer": "ipython3",
   "version": "3.9.12"
  }
 },
 "nbformat": 4,
 "nbformat_minor": 5
}
